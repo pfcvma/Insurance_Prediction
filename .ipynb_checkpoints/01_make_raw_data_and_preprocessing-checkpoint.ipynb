{
 "cells": [
  {
   "cell_type": "code",
   "execution_count": 1,
   "metadata": {},
   "outputs": [],
   "source": [
    "import numpy as np\n",
    "import pandas as pd\n",
    "\n",
    "import os, sys\n",
    "from pathlib import Path\n",
    "\n",
    "from tqdm import tqdm"
   ]
  },
  {
   "cell_type": "code",
   "execution_count": 2,
   "metadata": {},
   "outputs": [
    {
     "data": {
      "text/plain": [
       "WindowsPath('C:/Users/안현준/풍년보험')"
      ]
     },
     "execution_count": 2,
     "metadata": {},
     "output_type": "execute_result"
    }
   ],
   "source": [
    "CUR_DIR = Path.cwd()\n",
    "CUR_DIR"
   ]
  },
  {
   "cell_type": "code",
   "execution_count": 3,
   "metadata": {},
   "outputs": [],
   "source": [
    "sys.path.append(str(CUR_DIR))"
   ]
  },
  {
   "cell_type": "code",
   "execution_count": 4,
   "metadata": {},
   "outputs": [
    {
     "data": {
      "text/plain": [
       "'C:\\\\Users\\\\안현준\\\\풍년보험\\\\data\\\\raw'"
      ]
     },
     "execution_count": 4,
     "metadata": {},
     "output_type": "execute_result"
    }
   ],
   "source": [
    "DATA_DIR = CUR_DIR / 'data/raw'\n",
    "DATA_DIR = str(DATA_DIR)\n",
    "DATA_DIR"
   ]
  },
  {
   "cell_type": "code",
   "execution_count": 5,
   "metadata": {},
   "outputs": [],
   "source": [
    "import glob"
   ]
  },
  {
   "cell_type": "code",
   "execution_count": 6,
   "metadata": {},
   "outputs": [
    {
     "data": {
      "text/plain": [
       "['C:\\\\Users\\\\안현준\\\\풍년보험\\\\data\\\\raw\\\\~$감귤.xls',\n",
       " 'C:\\\\Users\\\\안현준\\\\풍년보험\\\\data\\\\raw\\\\~$깻잎.xls',\n",
       " 'C:\\\\Users\\\\안현준\\\\풍년보험\\\\data\\\\raw\\\\감귤.xls',\n",
       " 'C:\\\\Users\\\\안현준\\\\풍년보험\\\\data\\\\raw\\\\감자.xls',\n",
       " 'C:\\\\Users\\\\안현준\\\\풍년보험\\\\data\\\\raw\\\\고구마.xls',\n",
       " 'C:\\\\Users\\\\안현준\\\\풍년보험\\\\data\\\\raw\\\\고추(화건).xls',\n",
       " 'C:\\\\Users\\\\안현준\\\\풍년보험\\\\data\\\\raw\\\\깻잎.xls',\n",
       " 'C:\\\\Users\\\\안현준\\\\풍년보험\\\\data\\\\raw\\\\녹두(국산).xls',\n",
       " 'C:\\\\Users\\\\안현준\\\\풍년보험\\\\data\\\\raw\\\\느타리버섯.xls',\n",
       " 'C:\\\\Users\\\\안현준\\\\풍년보험\\\\data\\\\raw\\\\단감.xls',\n",
       " 'C:\\\\Users\\\\안현준\\\\풍년보험\\\\data\\\\raw\\\\당근(무세척).xls',\n",
       " 'C:\\\\Users\\\\안현준\\\\풍년보험\\\\data\\\\raw\\\\대파.xls',\n",
       " 'C:\\\\Users\\\\안현준\\\\풍년보험\\\\data\\\\raw\\\\들깨(국산).xls',\n",
       " 'C:\\\\Users\\\\안현준\\\\풍년보험\\\\data\\\\raw\\\\딸기.xls',\n",
       " 'C:\\\\Users\\\\안현준\\\\풍년보험\\\\data\\\\raw\\\\마늘.xls',\n",
       " 'C:\\\\Users\\\\안현준\\\\풍년보험\\\\data\\\\raw\\\\멜론.xls',\n",
       " 'C:\\\\Users\\\\안현준\\\\풍년보험\\\\data\\\\raw\\\\무.xls',\n",
       " 'C:\\\\Users\\\\안현준\\\\풍년보험\\\\data\\\\raw\\\\미나리.xls',\n",
       " 'C:\\\\Users\\\\안현준\\\\풍년보험\\\\data\\\\raw\\\\방울토마토.xls',\n",
       " 'C:\\\\Users\\\\안현준\\\\풍년보험\\\\data\\\\raw\\\\배(신고).xls',\n",
       " 'C:\\\\Users\\\\안현준\\\\풍년보험\\\\data\\\\raw\\\\배추.xls',\n",
       " 'C:\\\\Users\\\\안현준\\\\풍년보험\\\\data\\\\raw\\\\백참깨(국산).xls',\n",
       " 'C:\\\\Users\\\\안현준\\\\풍년보험\\\\data\\\\raw\\\\복숭아(백도).xls',\n",
       " 'C:\\\\Users\\\\안현준\\\\풍년보험\\\\data\\\\raw\\\\사과(후지).xls',\n",
       " 'C:\\\\Users\\\\안현준\\\\풍년보험\\\\data\\\\raw\\\\새송이버섯.xls',\n",
       " 'C:\\\\Users\\\\안현준\\\\풍년보험\\\\data\\\\raw\\\\생강(국산).xls',\n",
       " 'C:\\\\Users\\\\안현준\\\\풍년보험\\\\data\\\\raw\\\\수박.xls',\n",
       " 'C:\\\\Users\\\\안현준\\\\풍년보험\\\\data\\\\raw\\\\시금치.xls',\n",
       " 'C:\\\\Users\\\\안현준\\\\풍년보험\\\\data\\\\raw\\\\애호박.xls',\n",
       " 'C:\\\\Users\\\\안현준\\\\풍년보험\\\\data\\\\raw\\\\양배추.xls',\n",
       " 'C:\\\\Users\\\\안현준\\\\풍년보험\\\\data\\\\raw\\\\양파.xls',\n",
       " 'C:\\\\Users\\\\안현준\\\\풍년보험\\\\data\\\\raw\\\\열무.xls',\n",
       " 'C:\\\\Users\\\\안현준\\\\풍년보험\\\\data\\\\raw\\\\오이(가시).xls',\n",
       " 'C:\\\\Users\\\\안현준\\\\풍년보험\\\\data\\\\raw\\\\적상추.xls',\n",
       " 'C:\\\\Users\\\\안현준\\\\풍년보험\\\\data\\\\raw\\\\참외.xls',\n",
       " 'C:\\\\Users\\\\안현준\\\\풍년보험\\\\data\\\\raw\\\\콩(흰콩국산).xls',\n",
       " 'C:\\\\Users\\\\안현준\\\\풍년보험\\\\data\\\\raw\\\\토마토.xls',\n",
       " 'C:\\\\Users\\\\안현준\\\\풍년보험\\\\data\\\\raw\\\\파프리카.xls',\n",
       " 'C:\\\\Users\\\\안현준\\\\풍년보험\\\\data\\\\raw\\\\팥(국산).xls',\n",
       " 'C:\\\\Users\\\\안현준\\\\풍년보험\\\\data\\\\raw\\\\팽이버섯.xls',\n",
       " 'C:\\\\Users\\\\안현준\\\\풍년보험\\\\data\\\\raw\\\\포도(캠벨).xls',\n",
       " 'C:\\\\Users\\\\안현준\\\\풍년보험\\\\data\\\\raw\\\\풋고추.xls',\n",
       " 'C:\\\\Users\\\\안현준\\\\풍년보험\\\\data\\\\raw\\\\피망.xls']"
      ]
     },
     "execution_count": 6,
     "metadata": {},
     "output_type": "execute_result"
    }
   ],
   "source": [
    "files = []\n",
    "for filename in glob.glob(os.path.join(DATA_DIR, '*.xls')):\n",
    "    cur_file_path = os.path.join(os.getcwd(), filename)\n",
    "    files.append(cur_file_path)\n",
    "files"
   ]
  },
  {
   "cell_type": "code",
   "execution_count": 7,
   "metadata": {},
   "outputs": [],
   "source": [
    "files = files[2:]"
   ]
  },
  {
   "cell_type": "code",
   "execution_count": 8,
   "metadata": {},
   "outputs": [],
   "source": [
    "dfs = []\n",
    "crops = []\n",
    "for file in files:\n",
    "    cut = len(DATA_DIR)\n",
    "    df = pd.read_html(file)[0].iloc[0:-1]\n",
    "    dfs.append(df)\n",
    "    crops.append(file[cut + 1:-4])"
   ]
  },
  {
   "cell_type": "code",
   "execution_count": 9,
   "metadata": {},
   "outputs": [
    {
     "name": "stdout",
     "output_type": "stream",
     "text": [
      "['감귤', '감자', '고구마', '고추(화건)', '깻잎', '녹두(국산)', '느타리버섯', '단감', '당근(무세척)', '대파', '들깨(국산)', '딸기', '마늘', '멜론', '무', '미나리', '방울토마토', '배(신고)', '배추', '백참깨(국산)', '복숭아(백도)', '사과(후지)', '새송이버섯', '생강(국산)', '수박', '시금치', '애호박', '양배추', '양파', '열무', '오이(가시)', '적상추', '참외', '콩(흰콩국산)', '토마토', '파프리카', '팥(국산)', '팽이버섯', '포도(캠벨)', '풋고추', '피망']\n"
     ]
    }
   ],
   "source": [
    "print(crops)"
   ]
  },
  {
   "cell_type": "code",
   "execution_count": 10,
   "metadata": {},
   "outputs": [
    {
     "name": "stdout",
     "output_type": "stream",
     "text": [
      "1996\n",
      "감귤\n"
     ]
    }
   ],
   "source": [
    "df = dfs[0]\n",
    "print(df.구분[0])\n",
    "print(crops[0])"
   ]
  },
  {
   "cell_type": "code",
   "execution_count": 11,
   "metadata": {},
   "outputs": [
    {
     "data": {
      "text/html": [
       "<div>\n",
       "<style scoped>\n",
       "    .dataframe tbody tr th:only-of-type {\n",
       "        vertical-align: middle;\n",
       "    }\n",
       "\n",
       "    .dataframe tbody tr th {\n",
       "        vertical-align: top;\n",
       "    }\n",
       "\n",
       "    .dataframe thead th {\n",
       "        text-align: right;\n",
       "    }\n",
       "</style>\n",
       "<table border=\"1\" class=\"dataframe\">\n",
       "  <thead>\n",
       "    <tr style=\"text-align: right;\">\n",
       "      <th></th>\n",
       "      <th>구분</th>\n",
       "      <th>1월</th>\n",
       "      <th>2월</th>\n",
       "      <th>3월</th>\n",
       "      <th>4월</th>\n",
       "      <th>5월</th>\n",
       "      <th>6월</th>\n",
       "      <th>7월</th>\n",
       "      <th>8월</th>\n",
       "      <th>9월</th>\n",
       "      <th>10월</th>\n",
       "      <th>11월</th>\n",
       "      <th>12월</th>\n",
       "      <th>연평균</th>\n",
       "    </tr>\n",
       "  </thead>\n",
       "  <tbody>\n",
       "    <tr>\n",
       "      <th>0</th>\n",
       "      <td>1996</td>\n",
       "      <td>-</td>\n",
       "      <td>7189</td>\n",
       "      <td>6306.0</td>\n",
       "      <td>6810.0</td>\n",
       "      <td>6324.0</td>\n",
       "      <td>4911</td>\n",
       "      <td>4136</td>\n",
       "      <td>-</td>\n",
       "      <td>-</td>\n",
       "      <td>-</td>\n",
       "      <td>-</td>\n",
       "      <td>-</td>\n",
       "      <td>6029.0</td>\n",
       "    </tr>\n",
       "    <tr>\n",
       "      <th>1</th>\n",
       "      <td>1997</td>\n",
       "      <td>-</td>\n",
       "      <td>8773</td>\n",
       "      <td>8449.0</td>\n",
       "      <td>8375.0</td>\n",
       "      <td>6310.0</td>\n",
       "      <td>5595</td>\n",
       "      <td>-</td>\n",
       "      <td>-</td>\n",
       "      <td>-</td>\n",
       "      <td>-</td>\n",
       "      <td>-</td>\n",
       "      <td>-</td>\n",
       "      <td>7573.0</td>\n",
       "    </tr>\n",
       "    <tr>\n",
       "      <th>2</th>\n",
       "      <td>1998</td>\n",
       "      <td>-</td>\n",
       "      <td>8633</td>\n",
       "      <td>8368.0</td>\n",
       "      <td>8699.0</td>\n",
       "      <td>6042.0</td>\n",
       "      <td>3890</td>\n",
       "      <td>-</td>\n",
       "      <td>-</td>\n",
       "      <td>-</td>\n",
       "      <td>-</td>\n",
       "      <td>-</td>\n",
       "      <td>-</td>\n",
       "      <td>7488.0</td>\n",
       "    </tr>\n",
       "    <tr>\n",
       "      <th>3</th>\n",
       "      <td>1999</td>\n",
       "      <td>-</td>\n",
       "      <td>-</td>\n",
       "      <td>8773.0</td>\n",
       "      <td>10051.0</td>\n",
       "      <td>7249.0</td>\n",
       "      <td>6867</td>\n",
       "      <td>-</td>\n",
       "      <td>-</td>\n",
       "      <td>-</td>\n",
       "      <td>-</td>\n",
       "      <td>-</td>\n",
       "      <td>-</td>\n",
       "      <td>8439.0</td>\n",
       "    </tr>\n",
       "    <tr>\n",
       "      <th>4</th>\n",
       "      <td>2000</td>\n",
       "      <td>-</td>\n",
       "      <td>-</td>\n",
       "      <td>8086.0</td>\n",
       "      <td>7301.0</td>\n",
       "      <td>5477.0</td>\n",
       "      <td>4411</td>\n",
       "      <td>-</td>\n",
       "      <td>-</td>\n",
       "      <td>-</td>\n",
       "      <td>-</td>\n",
       "      <td>-</td>\n",
       "      <td>-</td>\n",
       "      <td>6644.0</td>\n",
       "    </tr>\n",
       "  </tbody>\n",
       "</table>\n",
       "</div>"
      ],
      "text/plain": [
       "     구분 1월    2월      3월       4월      5월    6월    7월 8월 9월 10월 11월 12월  \\\n",
       "0  1996  -  7189  6306.0   6810.0  6324.0  4911  4136  -  -   -   -   -   \n",
       "1  1997  -  8773  8449.0   8375.0  6310.0  5595     -  -  -   -   -   -   \n",
       "2  1998  -  8633  8368.0   8699.0  6042.0  3890     -  -  -   -   -   -   \n",
       "3  1999  -     -  8773.0  10051.0  7249.0  6867     -  -  -   -   -   -   \n",
       "4  2000  -     -  8086.0   7301.0  5477.0  4411     -  -  -   -   -   -   \n",
       "\n",
       "      연평균  \n",
       "0  6029.0  \n",
       "1  7573.0  \n",
       "2  7488.0  \n",
       "3  8439.0  \n",
       "4  6644.0  "
      ]
     },
     "execution_count": 11,
     "metadata": {},
     "output_type": "execute_result"
    }
   ],
   "source": [
    "dfs[11].head()"
   ]
  },
  {
   "cell_type": "code",
   "execution_count": 12,
   "metadata": {},
   "outputs": [],
   "source": [
    "from collections import defaultdict\n",
    "\n",
    "first_years = defaultdict(int)\n",
    "last_years = defaultdict(int)\n",
    "for df in dfs:\n",
    "    first_years[int(df.구분[0])] += 1\n",
    "    last_years[int(df.구분.iloc[-1])] += 1"
   ]
  },
  {
   "cell_type": "code",
   "execution_count": 13,
   "metadata": {},
   "outputs": [
    {
     "name": "stdout",
     "output_type": "stream",
     "text": [
      "defaultdict(<class 'int'>, {1996: 30, 1998: 2, 2002: 2, 2008: 1, 2009: 2, 2011: 1, 2012: 1, 2000: 1, 2004: 1})\n",
      "defaultdict(<class 'int'>, {2018: 1, 2020: 40})\n"
     ]
    }
   ],
   "source": [
    "print(first_years)\n",
    "print(last_years)"
   ]
  },
  {
   "cell_type": "markdown",
   "metadata": {},
   "source": [
    "# 최소 20년 데이터만 추출"
   ]
  },
  {
   "cell_type": "code",
   "execution_count": 14,
   "metadata": {},
   "outputs": [
    {
     "name": "stdout",
     "output_type": "stream",
     "text": [
      "32\n",
      "['감자', '고구마', '고추(화건)', '깻잎', '녹두(국산)', '단감', '당근(무세척)', '대파', '들깨(국산)', '딸기', '무', '미나리', '방울토마토', '배(신고)', '배추', '백참깨(국산)', '복숭아(백도)', '사과(후지)', '생강(국산)', '수박', '시금치', '애호박', '양배추', '양파', '오이(가시)', '적상추', '참외', '콩(흰콩국산)', '토마토', '팥(국산)', '포도(캠벨)', '풋고추']\n"
     ]
    }
   ],
   "source": [
    "using_dfs = []\n",
    "using_crops = []\n",
    "for i, df in enumerate(dfs):\n",
    "    if int(df.구분.iloc[0]) <= 2001 and int(df.구분.iloc[-1]) == 2020:\n",
    "        using_dfs.append(df)\n",
    "        using_crops.append(crops[i])\n",
    "print(len(using_crops))\n",
    "print(using_crops)"
   ]
  },
  {
   "cell_type": "markdown",
   "metadata": {},
   "source": [
    "# convert string to float\n",
    "- For example, string '10,000' must be 10000.0\n",
    "- Step\n",
    "    - 1. convert '-' to '-1'\n",
    "    - 2. convert all string data to float\n",
    "    - 3. revert '구분' column to int, since it means year\n",
    "    - 4. replace all -1.0 to NaN"
   ]
  },
  {
   "cell_type": "code",
   "execution_count": 15,
   "metadata": {},
   "outputs": [],
   "source": [
    "import locale\n",
    "from locale import atof"
   ]
  },
  {
   "cell_type": "code",
   "execution_count": 16,
   "metadata": {},
   "outputs": [
    {
     "data": {
      "text/plain": [
       "'Korean_Korea.949'"
      ]
     },
     "execution_count": 16,
     "metadata": {},
     "output_type": "execute_result"
    }
   ],
   "source": [
    "locale.setlocale(locale.LC_NUMERIC, '')"
   ]
  },
  {
   "cell_type": "code",
   "execution_count": 17,
   "metadata": {},
   "outputs": [],
   "source": [
    "raw_data = []\n",
    "for df in using_dfs:\n",
    "    df = df.astype('str')\n",
    "    df = df.replace('-', '-1')\n",
    "    df = df.applymap(atof)\n",
    "    df.구분 = df.구분.astype('int')\n",
    "    df = df.replace(-1, np.nan)\n",
    "    raw_data.append(df)"
   ]
  },
  {
   "cell_type": "markdown",
   "metadata": {},
   "source": [
    "# Fill the NaN\n",
    "- use linear interpolation"
   ]
  },
  {
   "cell_type": "code",
   "execution_count": 18,
   "metadata": {},
   "outputs": [
    {
     "data": {
      "text/plain": [
       "32"
      ]
     },
     "execution_count": 18,
     "metadata": {},
     "output_type": "execute_result"
    }
   ],
   "source": [
    "preprocessed = []\n",
    "for data in raw_data:\n",
    "    df = data\n",
    "    if df.isnull().values.sum() != 0:\n",
    "        df = df.interpolate(method='linear', axis=1)\n",
    "    preprocessed.append(df)\n",
    "len(preprocessed)"
   ]
  },
  {
   "cell_type": "code",
   "execution_count": 19,
   "metadata": {},
   "outputs": [
    {
     "name": "stdout",
     "output_type": "stream",
     "text": [
      "0\n",
      "0\n",
      "0\n",
      "0\n",
      "0\n",
      "0\n",
      "0\n",
      "0\n",
      "0\n",
      "0\n",
      "0\n",
      "0\n",
      "0\n",
      "0\n",
      "0\n",
      "0\n",
      "0\n",
      "0\n",
      "0\n",
      "0\n",
      "0\n",
      "0\n",
      "0\n",
      "0\n",
      "0\n",
      "0\n",
      "0\n",
      "0\n",
      "0\n",
      "0\n",
      "0\n",
      "0\n"
     ]
    }
   ],
   "source": [
    "for data in preprocessed:\n",
    "    print(data.isna().values.sum())"
   ]
  },
  {
   "cell_type": "markdown",
   "metadata": {},
   "source": [
    "# Save Preprocessed Data"
   ]
  },
  {
   "cell_type": "code",
   "execution_count": 20,
   "metadata": {},
   "outputs": [],
   "source": [
    "def make_single_directory(path):\n",
    "    os.makedirs(f'{path}', exist_ok=True)"
   ]
  },
  {
   "cell_type": "code",
   "execution_count": 21,
   "metadata": {},
   "outputs": [
    {
     "data": {
      "text/plain": [
       "WindowsPath('C:/Users/안현준/풍년보험/data/preprocessed')"
      ]
     },
     "execution_count": 21,
     "metadata": {},
     "output_type": "execute_result"
    }
   ],
   "source": [
    "PREPROCESSED_DIR = Path(CUR_DIR) / 'data/preprocessed'\n",
    "PREPROCESSED_DIR"
   ]
  },
  {
   "cell_type": "code",
   "execution_count": 22,
   "metadata": {},
   "outputs": [],
   "source": [
    "make_single_directory(str(PREPROCESSED_DIR))"
   ]
  },
  {
   "cell_type": "code",
   "execution_count": 23,
   "metadata": {},
   "outputs": [
    {
     "name": "stderr",
     "output_type": "stream",
     "text": [
      "100%|█████████████████████████████████████████████████████████████████████████████████| 32/32 [00:00<00:00, 205.68it/s]\n"
     ]
    }
   ],
   "source": [
    "for i, df in enumerate(tqdm(preprocessed)):\n",
    "    filename = using_crops[i]\n",
    "    file = PREPROCESSED_DIR / filename\n",
    "    df.to_csv(f'{str(file)}.csv', encoding='utf-8', index=False)"
   ]
  },
  {
   "cell_type": "code",
   "execution_count": null,
   "metadata": {},
   "outputs": [],
   "source": []
  },
  {
   "cell_type": "code",
   "execution_count": null,
   "metadata": {},
   "outputs": [],
   "source": []
  }
 ],
 "metadata": {
  "kernelspec": {
   "display_name": "Python 3",
   "language": "python",
   "name": "python3"
  },
  "language_info": {
   "codemirror_mode": {
    "name": "ipython",
    "version": 3
   },
   "file_extension": ".py",
   "mimetype": "text/x-python",
   "name": "python",
   "nbconvert_exporter": "python",
   "pygments_lexer": "ipython3",
   "version": "3.8.5"
  }
 },
 "nbformat": 4,
 "nbformat_minor": 4
}
