{
 "cells": [
  {
   "cell_type": "code",
   "execution_count": 1,
   "metadata": {},
   "outputs": [
    {
     "data": {
      "text/plain": [
       "WindowsPath('C:/Users/안현준/풍년보험/data/preprocessed')"
      ]
     },
     "execution_count": 1,
     "metadata": {},
     "output_type": "execute_result"
    }
   ],
   "source": [
    "import numpy as np\n",
    "import pandas as pd\n",
    "\n",
    "import matplotlib.pyplot as plt\n",
    "import seaborn as sns\n",
    "plt.rcParams['axes.unicode_minus'] = False\n",
    "plt.rcParams['font.family'] = 'NanumGothic'\n",
    "\n",
    "\n",
    "import os, sys, random\n",
    "from pathlib import Path\n",
    "import glob\n",
    "\n",
    "from tqdm import tqdm\n",
    "from fastprogress import progress_bar\n",
    "\n",
    "import warnings\n",
    "warnings.filterwarnings(action='ignore')\n",
    "\n",
    "import pickle\n",
    "\n",
    "CUR_DIR = Path.cwd()\n",
    "DATA_DIR = CUR_DIR / 'data/preprocessed'\n",
    "DATA_DIR"
   ]
  },
  {
   "cell_type": "code",
   "execution_count": 2,
   "metadata": {},
   "outputs": [],
   "source": [
    "crops = ['감자', '고구마', '고추(화건)', '깻잎', '녹두(국산)', '단감', '당근(무세척)', '대파', '들깨(국산)',\n",
    "       '딸기', '무', '미나리', '방울토마토', '배(신고)', '배추', '백참깨(국산)', '복숭아(백도)',\n",
    "       '사과(후지)', '생강(국산)', '수박', '시금치', '애호박', '양배추', '양파', '오이(가시)', '적상추',\n",
    "       '참외', '콩(흰콩국산)', '토마토', '팥(국산)', '포도(캠벨)', '풋고추']\n",
    "TARGET_YEAR = [2017, 2018, 2019, 2020]"
   ]
  },
  {
   "cell_type": "code",
   "execution_count": 17,
   "metadata": {},
   "outputs": [
    {
     "data": {
      "text/plain": [
       "32"
      ]
     },
     "execution_count": 17,
     "metadata": {},
     "output_type": "execute_result"
    }
   ],
   "source": [
    "len(crops)"
   ]
  },
  {
   "cell_type": "code",
   "execution_count": 55,
   "metadata": {},
   "outputs": [
    {
     "name": "stdout",
     "output_type": "stream",
     "text": [
      "0, 감자, 0.3487\n",
      "1, 고구마, -0.5360\n",
      "2, 고추(화건), 2.9109\n",
      "3, 깻잎, 2.6943\n",
      "4, 녹두(국산), -1.3498\n",
      "5, 단감, -1.2755\n",
      "6, 당근(무세척), -0.7728\n",
      "7, 대파, 0.3771\n",
      "8, 들깨(국산), 7.9651\n",
      "9, 딸기, 0.8855\n",
      "10, 무, 5.6931\n",
      "11, 미나리, 2.8283\n",
      "12, 방울토마토, -0.6553\n",
      "13, 배(신고), 2.8147\n",
      "14, 배추, -1.3804\n",
      "15, 백참깨(국산), 3.1642\n",
      "16, 복숭아(백도), 0.5370\n",
      "17, 사과(후지), 6.3742\n",
      "18, 생강(국산), 8.1716\n",
      "19, 수박, 1.5413\n",
      "20, 시금치, 1.1024\n",
      "21, 애호박, 4.3392\n",
      "22, 양배추, 2.4058\n",
      "23, 양파, 10.8875\n",
      "24, 오이(가시), -0.4664\n",
      "25, 적상추, 2.8270\n",
      "26, 참외, -0.0708\n",
      "27, 콩(흰콩국산), -3.8363\n",
      "28, 토마토, -0.0739\n",
      "29, 팥(국산), -1.3214\n",
      "30, 포도(캠벨), -1.9633\n",
      "31, 풋고추, 0.5971\n"
     ]
    }
   ],
   "source": [
    "earning_rates = []\n",
    "for i, crop in enumerate(crops):\n",
    "    cur = pd.read_csv(f'./results/{crop}/premiums_{crop}_v2.csv', encoding='utf-8-sig')\n",
    "    select = cur.loc[4:, ['year', f'{crop}_pred', 'MA_5_pred', '보험료_true']]\n",
    "    premium = np.mean(select['보험료_true'])\n",
    "    select_2 = select.loc[11:, f'{crop}_pred']\n",
    "    mean_2 = np.mean(select_2)\n",
    "    select['pick'] = np.where(select[f'{crop}_pred'] > select['MA_5_pred'], select[f'{crop}_pred'], select['MA_5_pred'])\n",
    "    pick = select.loc[11:, 'pick']\n",
    "    mean_3 = np.mean(pick)\n",
    "    pct = (mean_3 - premium) / mean_2 * 100 - 100\n",
    "    print(f'{i}, {crop}, {pct:.4f}')\n",
    "    earning_rates.append([pct, crop])\n",
    "    #print(f'{crop}: {mean}')\n"
   ]
  },
  {
   "cell_type": "code",
   "execution_count": 57,
   "metadata": {},
   "outputs": [
    {
     "data": {
      "text/plain": [
       "[[10.887514718011303, '양파'],\n",
       " [8.17157375941369, '생강(국산)'],\n",
       " [7.965079087145099, '들깨(국산)'],\n",
       " [6.374225025066821, '사과(후지)'],\n",
       " [5.693051361258867, '무'],\n",
       " [4.339179285568179, '애호박'],\n",
       " [3.164168026274865, '백참깨(국산)'],\n",
       " [2.910909888058839, '고추(화건)'],\n",
       " [2.828329938670109, '미나리'],\n",
       " [2.82701369122627, '적상추'],\n",
       " [2.814722002906805, '배(신고)'],\n",
       " [2.69429856598758, '깻잎'],\n",
       " [2.405830688180103, '양배추'],\n",
       " [1.5412891652994034, '수박'],\n",
       " [1.102421421112055, '시금치'],\n",
       " [0.8855109256418672, '딸기'],\n",
       " [0.5970873264624146, '풋고추'],\n",
       " [0.5370023009260194, '복숭아(백도)'],\n",
       " [0.3770643440620205, '대파'],\n",
       " [0.3487324709586517, '감자'],\n",
       " [-0.07082721012746163, '참외'],\n",
       " [-0.07393619622624215, '토마토'],\n",
       " [-0.46641624846678553, '오이(가시)'],\n",
       " [-0.5360436239775623, '고구마'],\n",
       " [-0.6553071321730783, '방울토마토'],\n",
       " [-0.7727634241695966, '당근(무세척)'],\n",
       " [-1.2754536630554867, '단감'],\n",
       " [-1.3214029822148916, '팥(국산)'],\n",
       " [-1.349784065175541, '녹두(국산)'],\n",
       " [-1.3804001723205772, '배추'],\n",
       " [-1.9633228617397123, '포도(캠벨)'],\n",
       " [-3.8362856181875884, '콩(흰콩국산)']]"
      ]
     },
     "execution_count": 57,
     "metadata": {},
     "output_type": "execute_result"
    }
   ],
   "source": [
    "earning_rates.sort(reverse=True)\n",
    "earning_rates"
   ]
  },
  {
   "cell_type": "code",
   "execution_count": 59,
   "metadata": {},
   "outputs": [
    {
     "data": {
      "text/plain": [
       "['양파', '생강(국산)', '들깨(국산)', '사과(후지)', '무']"
      ]
     },
     "execution_count": 59,
     "metadata": {},
     "output_type": "execute_result"
    }
   ],
   "source": [
    "top_5_crops = []\n",
    "for i, (pct, crop) in enumerate(earning_rates, 1):\n",
    "    if i >= 6:\n",
    "        break\n",
    "    top_5_crops.append(crop)\n",
    "top_5_crops"
   ]
  },
  {
   "cell_type": "code",
   "execution_count": 65,
   "metadata": {},
   "outputs": [
    {
     "name": "stdout",
     "output_type": "stream",
     "text": [
      "양파(10.8875): 20817.8175527534 , 18773.815614583335\n",
      "생강(국산)(8.1716): 118123.93989988146 , 109200.5374375\n",
      "들깨(국산)(7.9651): 432368.69399067777 , 400470.8722916667\n",
      "사과(후지)(6.3742): 44000.65706605275 , 41364.021270833335\n",
      "무(5.6931): 15960.375831901814 , 15100.686020833335\n"
     ]
    }
   ],
   "source": [
    "for i, crop in enumerate(top_5_crops):\n",
    "    cur = pd.read_csv(f'./results/{crop}/premiums_{crop}_v2.csv', encoding='utf-8-sig')\n",
    "    select = cur.loc[4:, ['year', f'{crop}_pred', 'MA_5_pred', '보험료_true']]\n",
    "    premium = np.mean(select['보험료_true'])\n",
    "    select_2 = select.loc[11:, f'{crop}_pred']\n",
    "    mean_2 = np.mean(select_2)\n",
    "    select['pick'] = np.where(select[f'{crop}_pred'] > select['MA_5_pred'], select[f'{crop}_pred'], select['MA_5_pred'])\n",
    "    pick = select.loc[11:, 'pick']\n",
    "    mean_3 = np.mean(pick)\n",
    "    pct = (mean_3 - premium) / mean_2 * 100 - 100\n",
    "    print(f'{crop}({pct:.4f}): {mean_3 - premium} , {mean_2}')"
   ]
  },
  {
   "cell_type": "code",
   "execution_count": null,
   "metadata": {},
   "outputs": [],
   "source": []
  }
 ],
 "metadata": {
  "kernelspec": {
   "display_name": "Python 3",
   "language": "python",
   "name": "python3"
  },
  "language_info": {
   "codemirror_mode": {
    "name": "ipython",
    "version": 3
   },
   "file_extension": ".py",
   "mimetype": "text/x-python",
   "name": "python",
   "nbconvert_exporter": "python",
   "pygments_lexer": "ipython3",
   "version": "3.8.5"
  }
 },
 "nbformat": 4,
 "nbformat_minor": 4
}
